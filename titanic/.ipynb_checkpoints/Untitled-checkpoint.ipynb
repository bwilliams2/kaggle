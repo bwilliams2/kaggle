{
 "cells": [
  {
   "cell_type": "code",
   "execution_count": null,
   "id": "subject-transport",
   "metadata": {},
   "outputs": [],
   "source": [
    "import pandas as pd\n",
    "from pathlib import Path\n",
    "import seaborn as sns\n",
    "import numpy as np\n",
    "import matplotlib.pyplot as plt\n",
    "data = {file.stem: pd.read_csv(file) for file in Path(\"data\").glob(\"*.csv\")}\n",
    "data.keys()"
   ]
  },
  {
   "cell_type": "code",
   "execution_count": null,
   "id": "bright-columbia",
   "metadata": {},
   "outputs": [],
   "source": [
    "explore = data[\"train\"]"
   ]
  },
  {
   "cell_type": "code",
   "execution_count": null,
   "id": "innovative-session",
   "metadata": {},
   "outputs": [],
   "source": [
    "def sum_survived(df):\n",
    "    sur = df[\"Survived\"].sum()\n",
    "    return pd.Series({\"Survived_1\": sur, \"Survived_0\": df.shape[0] - sur})\n",
    "explore.groupby(\"Sex\").apply(sum_survived).melt()"
   ]
  },
  {
   "cell_type": "code",
   "execution_count": null,
   "id": "decent-entrance",
   "metadata": {},
   "outputs": [],
   "source": [
    "explore"
   ]
  },
  {
   "cell_type": "code",
   "execution_count": null,
   "id": "editorial-democrat",
   "metadata": {},
   "outputs": [],
   "source": [
    "def sum_survived(df):\n",
    "    sur = df[\"Survived\"].sum()\n",
    "    return pd.Series({\"Survived\": sur, \"Died\": df.shape[0] - sur})\n",
    "\n",
    "for column in explore.columns:\n",
    "    if column in [\"Survived\",\"PassengerId\", \"Name\"]:\n",
    "        continue\n",
    "    grouped = explore.groupby(column).apply(sum_survived).reset_index().melt(id_vars=column)\n",
    "    sns.barplot(data=grouped, x=column, y=\"value\", hue=\"variable\")\n",
    "    plt.show()"
   ]
  },
  {
   "cell_type": "code",
   "execution_count": null,
   "id": "chronic-actor",
   "metadata": {},
   "outputs": [],
   "source": [
    "# Fill nan age values\n",
    "data[\"train\"].info()"
   ]
  },
  {
   "cell_type": "code",
   "execution_count": null,
   "id": "rotary-botswana",
   "metadata": {},
   "outputs": [],
   "source": [
    "def set_nan_age(df):\n",
    "    med = df[\"Age\"].median()\n",
    "    df[\"Age\"] = df[\"Age\"].fillna(med)\n",
    "    return df\n",
    "train_data = data[\"train\"].groupby([\"Pclass\", \"Sex\", \"Embarked\"]).apply(set_nan_age)\n",
    "test_data = data[\"test\"].groupby([\"Pclass\", \"Sex\", \"Embarked\"]).apply(set_nan_age)"
   ]
  },
  {
   "cell_type": "code",
   "execution_count": null,
   "id": "demographic-declaration",
   "metadata": {},
   "outputs": [],
   "source": [
    "from sklearn.ensemble import RandomForestClassifier\n",
    "\n",
    "y = train_data[\"Survived\"]\n",
    "\n",
    "features = [\"Pclass\", \"Sex\", \"SibSp\", \"Parch\", \"Embarked\", \"Age\"]\n",
    "X = pd.get_dummies(train_data[features])\n",
    "X_test = pd.get_dummies(test_data[features])\n",
    "\n",
    "model = RandomForestClassifier(n_estimators=200, max_depth=10, random_state=2)\n",
    "model.fit(X, y)\n",
    "predictions = model.predict(X_test)\n",
    "\n",
    "output = pd.DataFrame({'PassengerId': test_data.PassengerId, 'Survived': predictions})\n",
    "(y.shape[0] - np.sum(model.predict(X) != y))/y.shape[0]"
   ]
  },
  {
   "cell_type": "code",
   "execution_count": null,
   "id": "ethical-torture",
   "metadata": {},
   "outputs": [],
   "source": [
    "train_dataset\n"
   ]
  },
  {
   "cell_type": "code",
   "execution_count": null,
   "id": "mineral-measure",
   "metadata": {},
   "outputs": [],
   "source": [
    "import tensorflow as tf\n",
    "dataset = tf.data.Dataset.from_tensor_slices((X.values.astype(np.float), y.values.astype(np.int)))\n",
    "train_dataset = dataset.shuffle(X.shape[0]).batch(1)\n",
    "\n",
    "# X_train, X_test, y_train, y_test = train_test_split(X, Y)\n",
    "\n",
    "model = tf.keras.Sequential([\n",
    "  tf.keras.layers.Dense(16, input_shape=(X.shape[1],)),\n",
    "  tf.keras.layers.Dense(32, activation='relu'),\n",
    "  tf.keras.layers.Dense(32, activation='relu'),\n",
    "  tf.keras.layers.Dense(1, activation='sigmoid')\n",
    "])\n",
    "\n",
    "model.compile(\n",
    "    optimizer='adam',\n",
    "    loss=tf.keras.losses.BinaryCrossentropy(),\n",
    "    metrics=['accuracy']\n",
    ")\n",
    "model.fit(train_dataset, epochs=100)"
   ]
  },
  {
   "cell_type": "code",
   "execution_count": null,
   "id": "opposed-budget",
   "metadata": {},
   "outputs": [],
   "source": [
    "predictions = model(X.values.astype(np.float)).numpy()\n",
    "predictions"
   ]
  }
 ],
 "metadata": {
  "kernelspec": {
   "display_name": "Python 3",
   "language": "python",
   "name": "python3"
  },
  "language_info": {
   "codemirror_mode": {
    "name": "ipython",
    "version": 3
   },
   "file_extension": ".py",
   "mimetype": "text/x-python",
   "name": "python",
   "nbconvert_exporter": "python",
   "pygments_lexer": "ipython3",
   "version": "3.8.7"
  }
 },
 "nbformat": 4,
 "nbformat_minor": 5
}
