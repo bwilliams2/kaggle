{
 "cells": [
  {
   "cell_type": "code",
   "execution_count": null,
   "id": "prime-cycling",
   "metadata": {},
   "outputs": [],
   "source": [
    "import pandas as pd\n",
    "from pathlib import Path\n",
    "import seaborn as sns\n",
    "import numpy as np\n",
    "import matplotlib.pyplot as plt\n",
    "data = {file.stem: pd.read_csv(file) for file in Path(\"data\").glob(\"*.csv\")}\n",
    "data.keys()"
   ]
  },
  {
   "cell_type": "code",
   "execution_count": null,
   "id": "bibliographic-session",
   "metadata": {},
   "outputs": [],
   "source": [
    "explore = data[\"train\"]"
   ]
  },
  {
   "cell_type": "code",
   "execution_count": null,
   "id": "younger-keyboard",
   "metadata": {},
   "outputs": [],
   "source": [
    "def data_prep(df):"
   ]
  },
  {
   "cell_type": "code",
   "execution_count": null,
   "id": "roman-joining",
   "metadata": {},
   "outputs": [],
   "source": [
    "def sum_survived(df):\n",
    "    sur = df[\"Survived\"].sum()\n",
    "    return pd.Series({\"Survived_1\": sur, \"Survived_0\": df.shape[0] - sur})\n",
    "explore.groupby(\"Sex\").apply(sum_survived).melt()"
   ]
  },
  {
   "cell_type": "code",
   "execution_count": null,
   "id": "accessory-shuttle",
   "metadata": {},
   "outputs": [],
   "source": [
    "explore"
   ]
  },
  {
   "cell_type": "code",
   "execution_count": null,
   "id": "popular-arctic",
   "metadata": {},
   "outputs": [],
   "source": [
    "def sum_survived(df):\n",
    "    sur = df[\"Survived\"].sum()\n",
    "    return pd.Series({\"Survived\": sur, \"Died\": df.shape[0] - sur})\n",
    "\n",
    "for column in explore.columns:\n",
    "    if column in [\"Survived\",\"PassengerId\", \"Name\"]:\n",
    "        continue\n",
    "    grouped = explore.groupby(column).apply(sum_survived).reset_index().melt(id_vars=column)\n",
    "    sns.barplot(data=grouped, x=column, y=\"value\", hue=\"variable\")\n",
    "    plt.show()"
   ]
  },
  {
   "cell_type": "code",
   "execution_count": null,
   "id": "resident-central",
   "metadata": {},
   "outputs": [],
   "source": [
    "# Fill nan age values\n",
    "data[\"train\"].info()"
   ]
  },
  {
   "cell_type": "code",
   "execution_count": null,
   "id": "consistent-mileage",
   "metadata": {},
   "outputs": [],
   "source": [
    "def set_nan_age(df):\n",
    "    med = df[\"Age\"].median()\n",
    "    df[\"Age\"] = df[\"Age\"].fillna(med)\n",
    "    return df\n",
    "train_data = data[\"train\"].groupby([\"Pclass\", \"Sex\", \"Embarked\"]).apply(set_nan_age)\n",
    "test_data = data[\"test\"].groupby([\"Pclass\", \"Sex\", \"Embarked\"]).apply(set_nan_age)"
   ]
  },
  {
   "cell_type": "code",
   "execution_count": null,
   "id": "nonprofit-myrtle",
   "metadata": {},
   "outputs": [],
   "source": [
    "from sklearn.ensemble import RandomForestClassifier\n",
    "\n",
    "y = train_data[\"Survived\"]\n",
    "\n",
    "features = [\"Pclass\", \"Sex\", \"SibSp\", \"Parch\", \"Embarked\", \"Age\"]\n",
    "X = pd.get_dummies(train_data[features])\n",
    "X_test = pd.get_dummies(test_data[features])\n",
    "\n",
    "model = RandomForestClassifier(n_estimators=200, max_depth=10, random_state=2)\n",
    "model.fit(X, y)\n",
    "predictions = model.predict(X_test)\n",
    "\n",
    "output = pd.DataFrame({'PassengerId': test_data.PassengerId, 'Survived': predictions})\n",
    "(y.shape[0] - np.sum(model.predict(X) != y))/y.shape[0]"
   ]
  },
  {
   "cell_type": "code",
   "execution_count": null,
   "id": "adjacent-curve",
   "metadata": {},
   "outputs": [],
   "source": [
    "data[\"test\"][\"Survived\"] = predictions"
   ]
  },
  {
   "cell_type": "code",
   "execution_count": null,
   "id": "plastic-independence",
   "metadata": {},
   "outputs": [],
   "source": [
    "data[\"test\"][[\"PassengerId\", \"Survived\"]].to_csv(\"submission.csv\", index=False)"
   ]
  },
  {
   "cell_type": "code",
   "execution_count": null,
   "id": "separate-attack",
   "metadata": {},
   "outputs": [],
   "source": [
    "import tensorflow as tf\n",
    "from tensorflow.keras.wrappers.scikit_learn import KerasClassifier\n",
    "from sklearn.model_selection import cross_val_score\n",
    "from sklearn.preprocessing import LabelEncoder\n",
    "from sklearn.model_selection import StratifiedKFold\n",
    "\n",
    "dataset = tf.data.Dataset.from_tensor_slices((X.values.astype(float), y.values.astype(int)))\n",
    "train_dataset = dataset.shuffle(X.shape[0]).batch(1)\n",
    "\n",
    "# X_train, X_test, y_train, y_test = train_test_split(X, Y)\n",
    "\n",
    "def create_baseline():\n",
    "\n",
    "    model = tf.keras.Sequential([\n",
    "      tf.keras.layers.Dense(16, input_shape=(X.shape[1],)),\n",
    "      tf.keras.layers.Dense(32, activation='relu'),\n",
    "      tf.keras.layers.Dense(32, activation='relu'),\n",
    "      tf.keras.layers.Dense(1, activation='sigmoid')\n",
    "    ])\n",
    "    model.compile(\n",
    "        optimizer='adam',\n",
    "        loss=tf.keras.losses.BinaryCrossentropy(),\n",
    "        metrics=['accuracy']\n",
    "    )\n",
    "    return model\n",
    "\n",
    "# evaluate model with standardized dataset\n",
    "estimator = KerasClassifier(build_fn=create_baseline, epochs=200, batch_size=5, verbose=0)\n",
    "kfold = StratifiedKFold(n_splits=10, shuffle=True)\n",
    "results = cross_val_score(estimator, X, y, cv=kfold)\n",
    "print(\"Baseline: %.2f%% (%.2f%%)\" % (results.mean()*100, results.std()*100))\n",
    "\n",
    "# model.fit(train_dataset, epochs=100)"
   ]
  },
  {
   "cell_type": "code",
   "execution_count": null,
   "id": "adjusted-choice",
   "metadata": {},
   "outputs": [],
   "source": [
    "predictions = model(X.values.astype(np.float)).numpy()\n",
    "\n",
    "(y.shape[0] - np.sum(np.squeeze(np.round(predictions)) != y))/y.shape[0]"
   ]
  }
 ],
 "metadata": {
  "kernelspec": {
   "display_name": "Python 3",
   "language": "python",
   "name": "python3"
  },
  "language_info": {
   "codemirror_mode": {
    "name": "ipython",
    "version": 3
   },
   "file_extension": ".py",
   "mimetype": "text/x-python",
   "name": "python",
   "nbconvert_exporter": "python",
   "pygments_lexer": "ipython3",
   "version": "3.8.7"
  }
 },
 "nbformat": 4,
 "nbformat_minor": 5
}
